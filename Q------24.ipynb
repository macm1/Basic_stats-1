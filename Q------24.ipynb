{
 "cells": [
  {
   "cell_type": "code",
   "execution_count": 1,
   "id": "e86bf061",
   "metadata": {},
   "outputs": [],
   "source": [
    "from scipy import stats\n",
    "from scipy.stats import norm\n",
    "import numpy as np "
   ]
  },
  {
   "cell_type": "code",
   "execution_count": 2,
   "id": "c89a311a",
   "metadata": {},
   "outputs": [],
   "source": [
    "# Null Hypothesis is: Ho = Avg life of Bulb >= 260 days\n",
    "# Alternate Hypothesis is: Ha = Avg life of Bulb < 260 days"
   ]
  },
  {
   "cell_type": "code",
   "execution_count": 3,
   "id": "6b6078a0",
   "metadata": {},
   "outputs": [],
   "source": [
    "sample_mean = 260\n",
    "pop_mean = 270\n",
    "sample_std = 90\n",
    "sample_size = 18"
   ]
  },
  {
   "cell_type": "code",
   "execution_count": 4,
   "id": "b0a363bd",
   "metadata": {},
   "outputs": [
    {
     "data": {
      "text/plain": [
       "-0.4714045207910317"
      ]
     },
     "execution_count": 4,
     "metadata": {},
     "output_type": "execute_result"
    }
   ],
   "source": [
    "t = (sample_mean - pop_mean) / (sample_std/np.sqrt(18))\n",
    "t"
   ]
  },
  {
   "cell_type": "code",
   "execution_count": 5,
   "id": "94a92a89",
   "metadata": {},
   "outputs": [
    {
     "data": {
      "text/plain": [
       "17"
      ]
     },
     "execution_count": 5,
     "metadata": {},
     "output_type": "execute_result"
    }
   ],
   "source": [
    "df = sample_size - 1\n",
    "df"
   ]
  },
  {
   "cell_type": "code",
   "execution_count": 6,
   "id": "fc79730b",
   "metadata": {},
   "outputs": [
    {
     "name": "stdout",
     "output_type": "stream",
     "text": [
      "Probability that 18 randomly selected bulbs would have an average life of no more than 260 days is : 0.32167411684460556\n"
     ]
    }
   ],
   "source": [
    "p_value = stats.t.cdf(-0.4714, df)\n",
    "print(f\"Probability that 18 randomly selected bulbs would have an average life of no more than 260 days is : {p_value}\" )\n"
   ]
  },
  {
   "cell_type": "code",
   "execution_count": 7,
   "id": "093c32d6",
   "metadata": {},
   "outputs": [
    {
     "name": "stdout",
     "output_type": "stream",
     "text": [
      "Fail to reject null hypothesis : The CEO claims are False\n"
     ]
    }
   ],
   "source": [
    "Alpha = 0.05\n",
    "\n",
    "if p_value < Alpha:\n",
    "    print(\"Reject null hypothesis : The CEO claims are True.\")\n",
    "else:\n",
    "    print(\"Fail to reject null hypothesis : The CEO claims are False\")"
   ]
  }
 ],
 "metadata": {
  "kernelspec": {
   "display_name": "Python 3 (ipykernel)",
   "language": "python",
   "name": "python3"
  },
  "language_info": {
   "codemirror_mode": {
    "name": "ipython",
    "version": 3
   },
   "file_extension": ".py",
   "mimetype": "text/x-python",
   "name": "python",
   "nbconvert_exporter": "python",
   "pygments_lexer": "ipython3",
   "version": "3.11.5"
  }
 },
 "nbformat": 4,
 "nbformat_minor": 5
}
